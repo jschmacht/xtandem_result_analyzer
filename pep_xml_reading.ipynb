{
 "cells": [
  {
   "cell_type": "code",
   "execution_count": 1,
   "id": "7bc7aef0",
   "metadata": {},
   "outputs": [],
   "source": [
    "from pyteomics import pepxml\n",
    "from pathlib import Path\n",
    "from collections import defaultdict\n",
    "import pandas as pd\n",
    "import ast\n",
    "from create_PSM_df import PSM_FDR"
   ]
  },
  {
   "cell_type": "code",
   "execution_count": 20,
   "id": "76039dfa",
   "metadata": {},
   "outputs": [],
   "source": [
    "def read_pepXML(path_to_spectrum_identification_file):\n",
    "    reader = pepxml.PepXML(source=str(path_to_spectrum_identification_file), use_index=True,\n",
    "                           retrieve_refs=False, iterative=True)\n",
    "    spectra_to_accs_dict = defaultdict(list)\n",
    "    for spectrum_query in reader.iterfind(\"spectrum_query\"):\n",
    "        for search_hit in spectrum_query['search_hit']:\n",
    "            percolator_q_value = search_hit['search_score']['Percolator q-Value']\n",
    "            peptide = search_hit['peptide']\n",
    "            for protein in search_hit['proteins']:\n",
    "                protein_acc = protein['protein'].split()[0]\n",
    "                if '_WP_' in protein_acc:\n",
    "                    protein_acc='WP_' + protein_acc.split('WP_')[1]\n",
    "                spectra_to_accs_dict['Run1_' + spectrum_query['spectrum']].append((protein_acc, percolator_q_value, peptide))\n",
    "    return spectra_to_accs_dict"
   ]
  },
  {
   "cell_type": "code",
   "execution_count": 7,
   "id": "04c50127",
   "metadata": {},
   "outputs": [],
   "source": [
    "def read_acc_to_taxid_file(self, path_to_custom_tax):\n",
    "    acc_to_tax_dict = {}\n",
    "    with open(path_to_custom_tax, 'r') as tax:\n",
    "        for line in tax.readlines():\n",
    "            fields = line.split()\n",
    "            taxid = fields[-1]\n",
    "            acc = fields[1]\n",
    "            if '_WP_' in acc:\n",
    "                acc = 'WP_' + acc.split('WP_')[1]\n",
    "            acc_to_tax_dict[acc]=taxid\n",
    "    return acc_to_tax_dict"
   ]
  },
  {
   "cell_type": "code",
   "execution_count": 8,
   "id": "7fd3f108",
   "metadata": {},
   "outputs": [],
   "source": [
    "def write_Kleiner_spectrum_reference_file(spectra_to_accs_dict, path_to_custom_tax):\n",
    "    acc_to_tax_dict = read_acc_to_taxid_file(path_to_custom_tax)\n",
    "    print('writing ...')\n",
    "    with open(self.path_to_reference_output, 'w') as output:\n",
    "        output.write('SpectraID' + '\\t' + 'Ref_ProteinAcc' + '\\t' + 'Ref_Hyperscore' + '\\t' + 'Ref_taxID_DB' + '\\t'\n",
    "                     + ('\\t').join('Ref_taxid_' + level for level in self.tax_level) + '\\n')\n",
    "        for spectra, protein_list in spectra_to_accs_dict.items():\n",
    "            level_specific_taxids = []\n",
    "            for protein in protein_list:\n",
    "                taxid = acc_to_tax_dict[protein[0]]\n",
    "                if not level_specific_taxids:\n",
    "                    level_specific_taxids = self.determine_level_specific_taxIDs(taxid)\n",
    "                    level_specific_taxids = [{int(taxid)} for taxid in level_specific_taxids]\n",
    "                else:\n",
    "                    l = self.determine_level_specific_taxIDs(taxid)\n",
    "                    for i, taxid in enumerate(l):\n",
    "                        level_specific_taxids[i].add(int(taxid))\n",
    "            list_of_tax_str = [(', ' ).join([str(taxid) for taxid in taxid_set]) for taxid_set in level_specific_taxids]\n",
    "            output.write('Run1_' + spectra + '\\t' + protein[0] + '\\t' + str(protein[1]) + '\\t' +\n",
    "                              ('\\t' ).join(list_of_tax_str) + '\\n')"
   ]
  },
  {
   "cell_type": "code",
   "execution_count": 38,
   "id": "851d75c9",
   "metadata": {},
   "outputs": [],
   "source": [
    "def write_pep_xml_to_tsv(spectra_to_accs_peptide_score_dict):\n",
    "    with open('/home/jules/Documents/Tax2Proteome/benchmarking/spectra/Run1_U1_2000ng.pep.xml.tsv', 'w') as output:\n",
    "        output.write('Title' + '\\t' + 'ProteinAcc' + '\\t'  + 'Peptide' + '\\t' + 'Ref_Score'  + '\\n')\n",
    "        for spectrum, acc_and_score_list in spectra_to_accs_peptide_score_dict.items():\n",
    "            for acc_score_peptide in acc_and_score_list:\n",
    "                output.write(spectrum + '\\t' + acc_score_peptide[0] + '\\t' + acc_score_peptide[2] + '\\t' + str(acc_score_peptide[1])  + '\\n')\n",
    "        \n",
    "        "
   ]
  },
  {
   "cell_type": "code",
   "execution_count": 29,
   "id": "d1215e88",
   "metadata": {},
   "outputs": [],
   "source": [
    "pep_xml_file = '/home/jules/Documents/Tax2Proteome/benchmarking/spectra/Run1_U1_2000ng.pep.xml'\n",
    "custom_acc2tax_file_based_on_Kleiner_DB = '/home/jules/Documents/Tax2Proteome/benchmarking/Kleiner_ref_db/acc2tax_custom'\n",
    "spectra_to_accs_peptide_score_dict = read_pepXML(pep_xml_file)"
   ]
  },
  {
   "cell_type": "code",
   "execution_count": 39,
   "id": "6c8cfd89",
   "metadata": {},
   "outputs": [
    {
     "name": "stdout",
     "output_type": "stream",
     "text": [
      "86317\n",
      "[('K12_P52647', 0.02724, 'AINMMSRLEHVEEEK'), ('LT2_Q8ZP89', 0.02724, 'AINMMSRLEHVEEEK'), ('LT2_Q8ZLF5', 0.04747, 'HGMMANIEIKPTTGSGR'), ('LT2_Q8ZLF5', 0.04747, 'HGMMANIEIKPTTGSGR')]\n"
     ]
    }
   ],
   "source": [
    "print(len(spectra_to_accs_peptide_score_dict))\n",
    "print(spectra_to_accs_peptide_score_dict[\"Run1_U1_2000ng.3223.3223.3\"])\n",
    "write_pep_xml_to_tsv(spectra_to_accs_peptide_score_dict)"
   ]
  },
  {
   "cell_type": "code",
   "execution_count": null,
   "id": "460df535",
   "metadata": {},
   "outputs": [],
   "source": []
  }
 ],
 "metadata": {
  "kernelspec": {
   "display_name": "Python 3 (ipykernel)",
   "language": "python",
   "name": "python3"
  },
  "language_info": {
   "codemirror_mode": {
    "name": "ipython",
    "version": 3
   },
   "file_extension": ".py",
   "mimetype": "text/x-python",
   "name": "python",
   "nbconvert_exporter": "python",
   "pygments_lexer": "ipython3",
   "version": "3.9.5"
  }
 },
 "nbformat": 4,
 "nbformat_minor": 5
}
