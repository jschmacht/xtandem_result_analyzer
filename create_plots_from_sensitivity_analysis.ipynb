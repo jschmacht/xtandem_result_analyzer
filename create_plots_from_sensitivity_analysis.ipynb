{
 "cells": [
  {
   "cell_type": "code",
   "execution_count": 32,
   "id": "c1167989",
   "metadata": {},
   "outputs": [],
   "source": [
    "import seaborn as sns\n",
    "import matplotlib.pyplot as plt\n",
    "import pandas as pd\n",
    "import numpy as np\n",
    "from pathlib import Path\n",
    "import argparse\n",
    "from create_reference_from_tsv_and_pepxml import ReferenceWriter\n",
    "from sensitivity_calculator import SensitivityAndSpecificity\n",
    "from create_PSM_df import PSM_FDR"
   ]
  },
  {
   "cell_type": "code",
   "execution_count": 2,
   "id": "ab0f7112",
   "metadata": {},
   "outputs": [],
   "source": [
    "def read_all_results_into_dict(file):\n",
    "    result_dict= {}\n",
    "    with open(file, 'r') as inp:\n",
    "        firstline=inp.readline()\n",
    "        db_names = [name.strip() for name in firstline.strip().split('\\t')[1:]]\n",
    "        for db in db_names:\n",
    "            result_dict[db] = {}\n",
    "        for line in inp.readlines():\n",
    "            result_name = line.split('\\t')[0]\n",
    "            result_fields = [name.strip() for name in line.split('\\t')[1:]]\n",
    "            for i, db in enumerate(db_names):\n",
    "                result_dict[db][result_name]=result_fields[i]\n",
    "    return result_dict\n",
    "\n",
    "def read_analysis_results_into_dict(file):\n",
    "    result_dict= {}\n",
    "    with open(file, 'r') as inp:\n",
    "        for line in inp.readlines():\n",
    "            result_dict[line.split('\\t')[0]] = line.split('\\t')[1].strip()\n",
    "   #print(result_dict)\n",
    "    return result_dict\n",
    "\n",
    "def read_TP(file):\n",
    "    TP = int(read_analysis_results_into_dict(file)['TP:'])\n",
    "    return TP\n",
    "\n",
    "def read_TN(file):\n",
    "    TN = int(read_analysis_results_into_dict(file)['TN:'])\n",
    "    return TN\n",
    "\n",
    "def read_FP(file):\n",
    "    TP = int(read_analysis_results_into_dict(file)['FP:'])\n",
    "    return TP\n",
    "\n",
    "def read_FN(file):\n",
    "    TN = int(read_analysis_results_into_dict(file)['FN:'])\n",
    "    return TN\n",
    "\n",
    "def read_sensitivity(file):\n",
    "    sen = float(read_analysis_results_into_dict(file)['sensitivity:'])\n",
    "    return sen\n",
    " \n",
    "def read_specificity(file):\n",
    "    spe = float(read_analysis_results_into_dict(file)['specificity:'])\n",
    "    return spe\n",
    "\n",
    "def read_last_score(file):\n",
    "    last_score = read_analysis_results_into_dict(file)['Hyperscore of last item in FDR boundaries:']\n",
    "    return last_score"
   ]
  },
  {
   "cell_type": "code",
   "execution_count": 7,
   "id": "5c20176b",
   "metadata": {},
   "outputs": [],
   "source": [
    "def get_score_results(filtered_dict):   \n",
    "    db_size = []\n",
    "    score_border = []\n",
    "    result_dict = {}\n",
    "    for file_name, db_size_file_tuple in filtered_dict.items():\n",
    "        result_dict[file_name] = {'db_size': db_size_file_tuple[0]/100000, 'score_border': read_last_score(db_size_file_tuple[1])}\n",
    "\n",
    "    for k, v in result_dict.items():\n",
    "        db_size.append(v['db_size'])\n",
    "        score_border.append(v['score_border'])\n",
    "    return result_dict, db_size, score_border\n",
    "\n",
    "def get_specificity_results(filtered_dict):   \n",
    "    db_size = []\n",
    "    score_border = []\n",
    "    result_dict = {}\n",
    "    for file_name, db_size_file_tuple in filtered_dict.items():\n",
    "        result_dict[file_name] = {'db_size': db_size_file_tuple[0]/100000, 'specificity': read_specificity(db_size_file_tuple[1])}\n",
    "    for k, v in result_dict.items():\n",
    "        db_size.append(v['db_size'])\n",
    "        score_border.append(v['specificity'])\n",
    "    return result_dict, db_size, score_border"
   ]
  },
  {
   "cell_type": "code",
   "execution_count": 23,
   "id": "5d1044fe",
   "metadata": {},
   "outputs": [],
   "source": [
    "def get_decoy_rows(decoy_column):\n",
    "    return [True if d=={True} else False for d in decoy_column]\n",
    "\n",
    "def get_tax_rows(tax_column, taxid):\n",
    "    return [True if tax_set == {taxid} else False for tax_set in tax_column]\n",
    "\n",
    "def get_decoy_rows(protein_column):\n",
    "    return [True if 'REVERSED' in p else False for p in protein_column]\n",
    "\n",
    "\n",
    "def get_hit_rows(protein_column):\n",
    "    return [False if 'REVERSED' in p else True for p in protein_column]\n",
    "\n",
    "def get_decoy_rows2(decoy_column):\n",
    "    return [True if d_set in [{True, False}, {True}] else False for d_set in decoy_column]\n",
    "\n",
    "def get_hit_rows2(decoy_column):\n",
    "    return [True if d_set in  [{True, False}, {False}] else False for d_set in decoy_column]\n"
   ]
  },
  {
   "cell_type": "code",
   "execution_count": 3,
   "id": "b687bfe3",
   "metadata": {},
   "outputs": [],
   "source": [
    "# Files\n",
    "\n",
    "species_reduced_df=[\"/home/jules/Documents/Tax2Proteome/benchmarking/results_searchgui_xtandem_analyzer_bachelor_thesis/uniprot/x_tandem_tsv/Run1_U1_2000ng_uniprot_species.t.xml_reduced.tsv\",\n",
    "\"/home/jules/Documents/Tax2Proteome/benchmarking/results_searchgui_xtandem_analyzer_bachelor_thesis/uniprot/x_tandem_tsv/Run1_U1_2000ng_uniprot_species_species.t.xml_reduced.tsv\",\n",
    "\"/home/jules/Documents/Tax2Proteome/benchmarking/results_searchgui_xtandem_analyzer_bachelor_thesis/uniprot/x_tandem_tsv/Run1_U1_2000ng_uniprot_species_nr.t.xml_reduced.tsv\",\n",
    "\"/home/jules/Documents/Tax2Proteome/benchmarking/results_searchgui_xtandem_analyzer_bachelor_thesis/swissprot/x_tandem_tsv/Run1_U1_2000ng_swissprot_species.t.xml_reduced.tsv\",\n",
    "\"/home/jules/Documents/Tax2Proteome/benchmarking/results_searchgui_xtandem_analyzer_bachelor_thesis/ncbi_kleiner/x_tandem_tsv/Run1_U1_2000ng_ncbi_kleiner_species_species.t.xml_reduced.tsv\",\n",
    "\"/home/jules/Documents/Tax2Proteome/benchmarking/results_searchgui_xtandem_analyzer_bachelor_thesis/ncbi_kleiner/x_tandem_tsv/Run1_U1_2000ng_ncbi_kleiner_species.t.xml_reduced.tsv\",\n",
    "\"/home/jules/Documents/Tax2Proteome/benchmarking/results_searchgui_kleiner_reference_aradiopsis/Run1_U1_2000ng_kleiner_aradiopsis.t.xml_reduced.tsv\",\n",
    "\"/home/jules/Documents/Tax2Proteome/benchmarking/results_searchgui_kleiner_db/Run1_U1_2000ng.t.xml_reduced.tsv\"]\n",
    "\n",
    "genus_reduced_df=[\"/home/jules/Documents/Tax2Proteome/benchmarking/results_searchgui_xtandem_analyzer_bachelor_thesis/uniprot/x_tandem_tsv/Run1_U1_2000ng_uniprot_genus.t.xml_reduced.tsv\",\n",
    "\"/home/jules/Documents/Tax2Proteome/benchmarking/results_searchgui_xtandem_analyzer_bachelor_thesis/uniprot/x_tandem_tsv/Run1_U1_2000ng_uniprot_genus_species.t.xml_reduced.tsv\",\n",
    "\"/home/jules/Documents/Tax2Proteome/benchmarking/results_searchgui_xtandem_analyzer_bachelor_thesis/uniprot/x_tandem_tsv/Run1_U1_2000ng_uniprot_genus_nr.t.xml_reduced.tsv\",\n",
    "\"/home/jules/Documents/Tax2Proteome/benchmarking/results_searchgui_xtandem_analyzer_bachelor_thesis/swissprot/x_tandem_tsv/Run1_U1_2000ng_swissprot_genus.t.xml_reduced.tsv\",\n",
    "\"/home/jules/Documents/Tax2Proteome/benchmarking/results_searchgui_xtandem_analyzer_bachelor_thesis/ncbi_kleiner/x_tandem_tsv/Run1_U1_2000ng_ncbi_kleiner_genus.t.xml_reduced.tsv\",\n",
    "\"/home/jules/Documents/Tax2Proteome/benchmarking/results_searchgui_xtandem_analyzer_bachelor_thesis/ncbi_kleiner/x_tandem_tsv/Run1_U1_2000ng_ncbi_kleiner_genus_species.t.xml_reduced.tsv\"]\n",
    "\n",
    "family_reduced_df=[\"/home/jules/Documents/Tax2Proteome/benchmarking/results_searchgui_xtandem_analyzer_bachelor_thesis/uniprot/x_tandem_tsv/Run1_U1_2000ng_uniprot_family_nr.t.xml_reduced.tsv\",\n",
    "\"/home/jules/Documents/Tax2Proteome/benchmarking/results_searchgui_xtandem_analyzer_bachelor_thesis/swissprot/x_tandem_tsv/Run1_U1_2000ng_swissprot_family.t.xml_reduced.tsv\"]\n",
    "\n",
    "order_reduced_df=[\"/home/jules/Documents/Tax2Proteome/benchmarking/results_searchgui_xtandem_analyzer_bachelor_thesis/swissprot/x_tandem_tsv/Run1_U1_2000ng_swissprot_order.t.xml_reduced.tsv\"]\n",
    "fdr = 0.05\n",
    "dict_databases_to_size_and_result_file={'reference': (123088, f\"{species_reduced_df[7]}_{fdr}_sensitivity\"),\n",
    "                                        \"reference_Arabidopsis_thaliana\": (138980, f\"{species_reduced_df[6]}_{fdr}_sensitivity\"),\n",
    "                                        'ncbi_species': (8702135, f\"{species_reduced_df[5]}_{fdr}_sensitivity\"),\n",
    "                                        \"ncbi_genus\":(27804893, f\"{genus_reduced_df[4]}_{fdr}_sensitivity\"),\n",
    "\n",
    "                                        \"uniprot_species\": (4683371, f\"{species_reduced_df[0]}_{fdr}_sensitivity\"),\n",
    "                                        \"uniprot_species_species\": (2093157, f\"{species_reduced_df[1]}_{fdr}_sensitivity\"),\n",
    "                                        \"uniprot_species_nr\": (2991727, f\"{species_reduced_df[2]}_{fdr}_sensitivity\"),\n",
    "                                        \"uniprot_genus\": (18352148,  f\"{genus_reduced_df[0]}_{fdr}_sensitivity\"),\n",
    "                                        \"uniprot_genus_species\": (13068285,  f\"{genus_reduced_df[1]}_{fdr}_sensitivity\"),\n",
    "                                        \"uniprot_genus_nr\": (13210287,  f\"{genus_reduced_df[2]}_{fdr}_sensitivity\"),\n",
    "\n",
    "                                        \"uniprot_family_nr\": (22509624, f\"{family_reduced_df[0]}_{fdr}_sensitivity\"),\n",
    "                                        \"swissprot_species\": (58505, f\"{species_reduced_df[3]}_{fdr}_sensitivity\"),\n",
    "                                        \"swissprot_genus\": (88164, f\"{genus_reduced_df[3]}_{fdr}_sensitivity\" ),\n",
    "                                        \"swissprot_family\": (124044, f\"{family_reduced_df[1]}_{fdr}_sensitivity\"),\n",
    "                                        \"swissprot_order\": (181725, f\"{order_reduced_df[0]}_{fdr}_sensitivity\")}"
   ]
  },
  {
   "cell_type": "code",
   "execution_count": 8,
   "id": "4639b8aa",
   "metadata": {},
   "outputs": [],
   "source": [
    "uniprot_dict =dict(filter(lambda item: 'uniprot' in item[0], dict_databases_to_size_and_result_file.items()))\n",
    "uniprot_nr_dict =dict(filter(lambda item: '_nr' in item[0], uniprot_dict.items()))\n",
    "uniprot_species_dict=dict(filter(lambda item: item[0] in ['uniprot_species_species', 'uniprot_genus_species'], uniprot_dict.items()))\n",
    "ncbi_dict =dict(filter(lambda item: 'ncbi' in item[0], dict_databases_to_size_and_result_file.items()))\n",
    "swissprot_dict=dict(filter(lambda item: 'swiss' in item[0], dict_databases_to_size_and_result_file.items()))"
   ]
  },
  {
   "cell_type": "code",
   "execution_count": null,
   "id": "cfaa358c",
   "metadata": {},
   "outputs": [],
   "source": [
    "# plot last Score in FDR Range\n",
    "result_dict_border_uniprot_nr, db_size_uniprot_nr, score_border_uniprot_nr = get_score_results(uniprot_nr_dict)\n",
    "result_dict_border_uniprot_species, db_size_uniprot_species, score_border_uniprot_species = get_score_results(uniprot_species_dict)\n",
    "result_dict_border_ncbi, db_size_ncbi, score_border_ncbi = get_score_results(ncbi_dict)"
   ]
  },
  {
   "cell_type": "code",
   "execution_count": 163,
   "id": "2b452c9f",
   "metadata": {},
   "outputs": [
    {
     "data": {
      "image/png": "[encoded data removed]",
      "text/plain": [
       "<Figure size 432x288 with 1 Axes>"
      ]
     },
     "metadata": {},
     "output_type": "display_data"
    }
   ],
   "source": [
    "# plot last Score in FDR Range\n",
    "\n",
    "# size: plt.figure(figsize=(10,6))\n",
    "sns.set_theme(style=\"darkgrid\")\n",
    "sns.lineplot(x= db_size_uniprot_nr, y=score_border_uniprot_nr, marker='x', markersize=10, color='pink', label='uniprot_nr')\n",
    "sns.lineplot(x= db_size_uniprot_species, y=score_border_uniprot_species, marker='x', markersize=10, color='blue', label='uniprot_species')\n",
    "sns.lineplot(x= db_size_ncbi, y=score_border_ncbi, marker='x', markersize=10, color='green', label='ncbi')\n",
    "plt.ylabel(\"score last psm in FDR range\")\n",
    "plt.xlabel(\"# fasta * 10⁶\")\n",
    "#plt.title('', size=20)\n",
    "plt.savefig('/home/jules/Documents/Tax2Proteome/benchmarking/plots/score_border.png')"
   ]
  },
  {
   "cell_type": "code",
   "execution_count": 152,
   "id": "a8ad0fea",
   "metadata": {},
   "outputs": [
    {
     "name": "stdout",
     "output_type": "stream",
     "text": [
      "Index(['Unnamed: 0', '#SpecFile', 'Title', 'Peptide', 'Hyperscore', 'Protein',\n",
      "       'EValue', 'decoy', 'taxID', 'taxID_species'],\n",
      "      dtype='object')\n",
      "Number of PSMs: 40905\n",
      "Number of decoys: 2152\n",
      "double identified spectra 1092\n",
      "Position FDR border/Number of PSMs: 44149\n",
      "score last item: 21\n",
      "43057 2188 358\n"
     ]
    }
   ],
   "source": [
    "# nb psm in fdr, decoy, plant:\n",
    "# Arabidopsis thaliana\n",
    "fdr = 0.05\n",
    "ara_file = \"/home/jules/Documents/Tax2Proteome/benchmarking/results_searchgui_kleiner_reference_aradiopsis/Run1_U1_2000ng_kleiner_aradiopsis.t.xml_reduced.tsv\"\n",
    "result_df = ReferenceWriter.read_csv_with_generic_function(ara_file,\n",
    "                                                               ['Protein', 'Hyperscore', 'decoy', 'taxID', f'taxID_species'])\n",
    "fdr_pos, number_psm, number_decoy, double_spectra, score_last_item = PSM_FDR.determine_FDR_position(result_df, fdr, True)\n",
    "result_df_in_fdr = result_df[0:fdr_pos]\n",
    "all_spectra_in_fdr = len(set(result_df_in_fdr.Title.tolist()))\n",
    "all_decoy_in_fdr = len(set(result_df_in_fdr[get_decoy_rows(result_df_in_fdr.decoy)].Title.tolist()))\n",
    "all_plant_in_fdr = len(set(result_df_in_fdr[get_tax_rows(result_df_in_fdr.taxID_species, 3702)].Title.tolist()))\n",
    "print(all_spectra_in_fdr, all_decoy_in_fdr, all_plant_in_fdr)"
   ]
  },
  {
   "cell_type": "code",
   "execution_count": 203,
   "id": "5d4b5a53",
   "metadata": {},
   "outputs": [
    {
     "data": {
      "image/png": "[encoded data removed]",
      "text/plain": [
       "<Figure size 720x432 with 1 Axes>"
      ]
     },
     "metadata": {},
     "output_type": "display_data"
    }
   ],
   "source": [
    "pie, ax = plt.subplots(figsize=[10,6])\n",
    "labels = ['PSM', 'decoy', 'Arabidopsis thaliana']\n",
    "plt.pie(x=[all_spectra_in_fdr, all_decoy_in_fdr, all_plant_in_fdr], labels=labels, pctdistance=0.5)\n",
    "# plt.title(\"% Arabidopsis thaliana\", fontsize=14);\n",
    "pie.savefig('/home/jules/Documents/Tax2Proteome/benchmarking/plots/Arabidopsis_thaliana_pie_chart.png')\n"
   ]
  },
  {
   "cell_type": "code",
   "execution_count": 216,
   "id": "48bf1120",
   "metadata": {},
   "outputs": [
    {
     "data": {
      "text/html": [
       "<div>\n",
       "<style scoped>\n",
       "    .dataframe tbody tr th:only-of-type {\n",
       "        vertical-align: middle;\n",
       "    }\n",
       "\n",
       "    .dataframe tbody tr th {\n",
       "        vertical-align: top;\n",
       "    }\n",
       "\n",
       "    .dataframe thead th {\n",
       "        text-align: right;\n",
       "    }\n",
       "</style>\n",
       "<table border=\"1\" class=\"dataframe\">\n",
       "  <thead>\n",
       "    <tr style=\"text-align: right;\">\n",
       "      <th>db_name</th>\n",
       "      <th>specificity</th>\n",
       "      <th>sensitivity</th>\n",
       "    </tr>\n",
       "  </thead>\n",
       "  <tbody>\n",
       "    <tr>\n",
       "      <th>reference</th>\n",
       "      <td>100.000000</td>\n",
       "      <td>100.000000</td>\n",
       "    </tr>\n",
       "    <tr>\n",
       "      <th>reference_Arabidopsis_thaliana</th>\n",
       "      <td>99.881272</td>\n",
       "      <td>98.365538</td>\n",
       "    </tr>\n",
       "    <tr>\n",
       "      <th>ncbi_species</th>\n",
       "      <td>98.562885</td>\n",
       "      <td>85.726948</td>\n",
       "    </tr>\n",
       "    <tr>\n",
       "      <th>ncbi_genus</th>\n",
       "      <td>98.320025</td>\n",
       "      <td>76.974026</td>\n",
       "    </tr>\n",
       "    <tr>\n",
       "      <th>uniprot_species</th>\n",
       "      <td>98.323234</td>\n",
       "      <td>85.891404</td>\n",
       "    </tr>\n",
       "    <tr>\n",
       "      <th>uniprot_species_species</th>\n",
       "      <td>98.238656</td>\n",
       "      <td>84.458680</td>\n",
       "    </tr>\n",
       "    <tr>\n",
       "      <th>uniprot_species_nr</th>\n",
       "      <td>98.321305</td>\n",
       "      <td>85.893509</td>\n",
       "    </tr>\n",
       "    <tr>\n",
       "      <th>uniprot_genus</th>\n",
       "      <td>98.438699</td>\n",
       "      <td>78.393919</td>\n",
       "    </tr>\n",
       "    <tr>\n",
       "      <th>uniprot_genus_species</th>\n",
       "      <td>97.771489</td>\n",
       "      <td>75.473093</td>\n",
       "    </tr>\n",
       "    <tr>\n",
       "      <th>uniprot_genus_nr</th>\n",
       "      <td>98.432606</td>\n",
       "      <td>78.391253</td>\n",
       "    </tr>\n",
       "    <tr>\n",
       "      <th>uniprot_family_nr</th>\n",
       "      <td>98.305966</td>\n",
       "      <td>74.921506</td>\n",
       "    </tr>\n",
       "    <tr>\n",
       "      <th>swissprot_species</th>\n",
       "      <td>97.838305</td>\n",
       "      <td>50.595859</td>\n",
       "    </tr>\n",
       "    <tr>\n",
       "      <th>swissprot_genus</th>\n",
       "      <td>98.001373</td>\n",
       "      <td>51.592057</td>\n",
       "    </tr>\n",
       "    <tr>\n",
       "      <th>swissprot_family</th>\n",
       "      <td>98.055197</td>\n",
       "      <td>51.638189</td>\n",
       "    </tr>\n",
       "    <tr>\n",
       "      <th>swissprot_order</th>\n",
       "      <td>97.848361</td>\n",
       "      <td>50.350655</td>\n",
       "    </tr>\n",
       "    <tr>\n",
       "      <th>Unnamed: 16</th>\n",
       "      <td>NaN</td>\n",
       "      <td>NaN</td>\n",
       "    </tr>\n",
       "  </tbody>\n",
       "</table>\n",
       "</div>"
      ],
      "text/plain": [
       "db_name                         specificity  sensitivity\n",
       "reference                        100.000000   100.000000\n",
       "reference_Arabidopsis_thaliana    99.881272    98.365538\n",
       "ncbi_species                      98.562885    85.726948\n",
       "ncbi_genus                        98.320025    76.974026\n",
       "uniprot_species                   98.323234    85.891404\n",
       "uniprot_species_species           98.238656    84.458680\n",
       "uniprot_species_nr                98.321305    85.893509\n",
       "uniprot_genus                     98.438699    78.393919\n",
       "uniprot_genus_species             97.771489    75.473093\n",
       "uniprot_genus_nr                  98.432606    78.391253\n",
       "uniprot_family_nr                 98.305966    74.921506\n",
       "swissprot_species                 97.838305    50.595859\n",
       "swissprot_genus                   98.001373    51.592057\n",
       "swissprot_family                  98.055197    51.638189\n",
       "swissprot_order                   97.848361    50.350655\n",
       "Unnamed: 16                             NaN          NaN"
      ]
     },
     "execution_count": 216,
     "metadata": {},
     "output_type": "execute_result"
    }
   ],
   "source": [
    "# show sen spec results\n",
    "all_results_dict = read_all_results_into_dict('/home/jules/Documents/Tax2Proteome/benchmarking/sensitivity_analysis.tsv')\n",
    "all_results_df = pd.read_csv('/home/jules/Documents/Tax2Proteome/benchmarking/sensitivity_analysis.tsv', sep='\\t')\n",
    "#print(result_df.head())\n",
    "# transpose\n",
    "all_results_df.set_index('db_name',inplace=True)\n",
    "all_result_df_t = result_df.T\n",
    "# print(result_df_t.head())\n",
    "all_result_df_t[['specificity', 'sensitivity']]"
   ]
  },
  {
   "cell_type": "code",
   "execution_count": 17,
   "id": "0d2a6b97",
   "metadata": {},
   "outputs": [],
   "source": [
    "def df_to_wide_df(df, order, index_name, columns_name, values_name):\n",
    "    df_wide = df.pivot_table(index=index_name, columns=columns_name, values=values_name)\n",
    "    df_wide = df_wide.reindex(order, axis=0)\n",
    "    return df_wide\n",
    "    \n",
    "def create_df_for_lineplot_from_rows_df(column_names, rows):\n",
    "    df_spe_sens = pd.DataFrame(rows,columns=column_names)\n",
    "    order = df_spe_sens['level']  \n",
    "    df_spe_wide = df_to_wide_df(df_spe_sens, order, 'level', 'DB', 'specificity') \n",
    "    df_sens_wide = df_to_wide_df(df_spe_sens, order, 'level', 'DB', 'sensitivity') \n",
    "    return df_spe_wide, df_sens_wide"
   ]
  },
  {
   "cell_type": "code",
   "execution_count": 18,
   "id": "6a45a310",
   "metadata": {},
   "outputs": [],
   "source": [
    "def plot_lineplot_sens_spec(df_spe_wide, df_sens_wide):\n",
    "    plt.figure(figsize=(10,6))\n",
    "    sns.set_theme(style=\"darkgrid\")\n",
    "    sns.lineplot( data=df_spe_wide, palette=['blue', 'red', 'darkgreen'], label='sensitivity')\n",
    "    sns.lineplot( data=df_sens_wide, palette=['lightblue', 'pink', 'lightgreen'], label='specificity')\n",
    "    plt.ylabel(\"specificity/sensitivity\")\n",
    "    plt.xlabel(\"level\")\n",
    "    #plt.title('', size=20)\n",
    "    plt.savefig('/home/jules/Documents/Tax2Proteome/benchmarking/plots/specificity_sensitivity.png')\n",
    "    return plt\n",
    "    "
   ]
  },
  {
   "cell_type": "code",
   "execution_count": 19,
   "id": "0540de45",
   "metadata": {},
   "outputs": [
    {
     "data": {
      "image/png": "[encoded data removed]",
      "text/plain": [
       "<Figure size 720x432 with 1 Axes>"
      ]
     },
     "metadata": {},
     "output_type": "display_data"
    }
   ],
   "source": [
    "# specificity and sensitivity with unidentified spectra\n",
    "column_names = ['DB', 'level', 'specificity', 'sensitivity']\n",
    "rows =[['uniprot_nr', 'species', 98.323234, 85.891404 ], ['uniprot_nr', 'genus', 98.432606, 78.391253], ['uniprot_nr', 'family', 98.305966, 74.921506 ],\n",
    "      ['ncbi_nr', 'species', 98.562885, 85.726948 ], ['ncbi_nr', 'genus', 98.320025, 76.974026],\n",
    "      ['swissprot', 'species', 97.838305, 50.595859 ], ['swissprot', 'genus', 98.001373, 51.592057], ['swissprot', 'family', 97.848361, 50.350655]]\n",
    "df_spe_wide, df_sens_wide = create_df_for_lineplot_from_rows_df(column_names, rows)\n",
    "\n",
    "plt = plot_lineplot_sens_spec(df_spe_wide, df_sens_wide)"
   ]
  },
  {
   "cell_type": "code",
   "execution_count": null,
   "id": "18c3672c",
   "metadata": {},
   "outputs": [],
   "source": []
  },
  {
   "cell_type": "code",
   "execution_count": 237,
   "id": "d4b59edd",
   "metadata": {
    "scrolled": true
   },
   "outputs": [
    {
     "data": {
      "text/html": [
       "<div>\n",
       "<style scoped>\n",
       "    .dataframe tbody tr th:only-of-type {\n",
       "        vertical-align: middle;\n",
       "    }\n",
       "\n",
       "    .dataframe tbody tr th {\n",
       "        vertical-align: top;\n",
       "    }\n",
       "\n",
       "    .dataframe thead th {\n",
       "        text-align: right;\n",
       "    }\n",
       "</style>\n",
       "<table border=\"1\" class=\"dataframe\">\n",
       "  <thead>\n",
       "    <tr style=\"text-align: right;\">\n",
       "      <th>db_name</th>\n",
       "      <th>Number of spectra identified in result but not in reference</th>\n",
       "      <th>FN</th>\n",
       "    </tr>\n",
       "  </thead>\n",
       "  <tbody>\n",
       "    <tr>\n",
       "      <th>reference</th>\n",
       "      <td>0.0</td>\n",
       "      <td>0.0</td>\n",
       "    </tr>\n",
       "    <tr>\n",
       "      <th>reference_Arabidopsis_thaliana</th>\n",
       "      <td>276.0</td>\n",
       "      <td>675.0</td>\n",
       "    </tr>\n",
       "    <tr>\n",
       "      <th>ncbi_species</th>\n",
       "      <td>3139.0</td>\n",
       "      <td>5797.0</td>\n",
       "    </tr>\n",
       "    <tr>\n",
       "      <th>ncbi_genus</th>\n",
       "      <td>3560.0</td>\n",
       "      <td>9317.0</td>\n",
       "    </tr>\n",
       "    <tr>\n",
       "      <th>uniprot_species</th>\n",
       "      <td>11924.0</td>\n",
       "      <td>5758.0</td>\n",
       "    </tr>\n",
       "    <tr>\n",
       "      <th>uniprot_species_species</th>\n",
       "      <td>11426.0</td>\n",
       "      <td>6332.0</td>\n",
       "    </tr>\n",
       "    <tr>\n",
       "      <th>uniprot_species_nr</th>\n",
       "      <td>11925.0</td>\n",
       "      <td>5757.0</td>\n",
       "    </tr>\n",
       "    <tr>\n",
       "      <th>uniprot_genus</th>\n",
       "      <td>3023.0</td>\n",
       "      <td>8755.0</td>\n",
       "    </tr>\n",
       "    <tr>\n",
       "      <th>uniprot_genus_species</th>\n",
       "      <td>10744.0</td>\n",
       "      <td>9954.0</td>\n",
       "    </tr>\n",
       "    <tr>\n",
       "      <th>uniprot_genus_nr</th>\n",
       "      <td>3023.0</td>\n",
       "      <td>8755.0</td>\n",
       "    </tr>\n",
       "    <tr>\n",
       "      <th>uniprot_family_nr</th>\n",
       "      <td>3658.0</td>\n",
       "      <td>10144.0</td>\n",
       "    </tr>\n",
       "    <tr>\n",
       "      <th>swissprot_species</th>\n",
       "      <td>6288.0</td>\n",
       "      <td>19899.0</td>\n",
       "    </tr>\n",
       "    <tr>\n",
       "      <th>swissprot_genus</th>\n",
       "      <td>6534.0</td>\n",
       "      <td>19551.0</td>\n",
       "    </tr>\n",
       "    <tr>\n",
       "      <th>swissprot_family</th>\n",
       "      <td>6682.0</td>\n",
       "      <td>19558.0</td>\n",
       "    </tr>\n",
       "    <tr>\n",
       "      <th>swissprot_order</th>\n",
       "      <td>6664.0</td>\n",
       "      <td>20035.0</td>\n",
       "    </tr>\n",
       "    <tr>\n",
       "      <th>Unnamed: 16</th>\n",
       "      <td>NaN</td>\n",
       "      <td>NaN</td>\n",
       "    </tr>\n",
       "  </tbody>\n",
       "</table>\n",
       "</div>"
      ],
      "text/plain": [
       "db_name                         Number of spectra identified in result but not in reference  \\\n",
       "reference                                                                     0.0             \n",
       "reference_Arabidopsis_thaliana                                              276.0             \n",
       "ncbi_species                                                               3139.0             \n",
       "ncbi_genus                                                                 3560.0             \n",
       "uniprot_species                                                           11924.0             \n",
       "uniprot_species_species                                                   11426.0             \n",
       "uniprot_species_nr                                                        11925.0             \n",
       "uniprot_genus                                                              3023.0             \n",
       "uniprot_genus_species                                                     10744.0             \n",
       "uniprot_genus_nr                                                           3023.0             \n",
       "uniprot_family_nr                                                          3658.0             \n",
       "swissprot_species                                                          6288.0             \n",
       "swissprot_genus                                                            6534.0             \n",
       "swissprot_family                                                           6682.0             \n",
       "swissprot_order                                                            6664.0             \n",
       "Unnamed: 16                                                                   NaN             \n",
       "\n",
       "db_name                              FN  \n",
       "reference                           0.0  \n",
       "reference_Arabidopsis_thaliana    675.0  \n",
       "ncbi_species                     5797.0  \n",
       "ncbi_genus                       9317.0  \n",
       "uniprot_species                  5758.0  \n",
       "uniprot_species_species          6332.0  \n",
       "uniprot_species_nr               5757.0  \n",
       "uniprot_genus                    8755.0  \n",
       "uniprot_genus_species            9954.0  \n",
       "uniprot_genus_nr                 8755.0  \n",
       "uniprot_family_nr               10144.0  \n",
       "swissprot_species               19899.0  \n",
       "swissprot_genus                 19551.0  \n",
       "swissprot_family                19558.0  \n",
       "swissprot_order                 20035.0  \n",
       "Unnamed: 16                         NaN  "
      ]
     },
     "execution_count": 237,
     "metadata": {},
     "output_type": "execute_result"
    }
   ],
   "source": [
    "# additional PSMs\n",
    "all_result_df_t[['Number of spectra identified in result but not in reference', 'FN']]"
   ]
  },
  {
   "cell_type": "code",
   "execution_count": 21,
   "id": "b639b392",
   "metadata": {},
   "outputs": [
    {
     "data": {
      "image/png": "[encoded data removed]",
      "text/plain": [
       "<Figure size 720x432 with 1 Axes>"
      ]
     },
     "metadata": {},
     "output_type": "display_data"
    }
   ],
   "source": [
    "column_names = ['DB', 'level', 'additional identified spectra']\n",
    "rows =[['uniprot_nr', 'species', 11925-5758 ], ['uniprot_nr', 'genus', 3023-8755], ['uniprot_nr', 'family', 3658-10144],\n",
    "      ['ncbi_nr', 'species', 3139-5797], ['ncbi_nr', 'genus', 3560-9317],\n",
    "      ['swissprot', 'species', 6288 -19899], ['swissprot', 'genus', 6534 -19551], ['swissprot', 'family', 6682 - 19558],]\n",
    "df_add_psm = pd.DataFrame(rows,columns=column_names)\n",
    "order = df_add_psm['level']  \n",
    "df_add_psm_wide = df_to_wide_df(df_add_psm, order, 'level', 'DB', 'additional identified spectra')\n",
    "\n",
    "\n",
    "plt.figure(figsize=(10,6))\n",
    "sns.set_theme(style=\"darkgrid\")\n",
    "sns.lineplot( data=df_add_psm_wide, palette=['blue', 'darkgreen', 'red'])\n",
    "plt.ylabel(\"additional identified spectra\")\n",
    "plt.xlabel(\"level\")\n",
    "#plt.title('', size=20)\n",
    "plt.savefig('/home/jules/Documents/Tax2Proteome/benchmarking/plots/additional_psm.png')"
   ]
  },
  {
   "cell_type": "code",
   "execution_count": 195,
   "id": "49406785",
   "metadata": {},
   "outputs": [
    {
     "name": "stdout",
     "output_type": "stream",
     "text": [
      "result:  131770 37497 95162\n",
      "result reduced:  131770 37497 95162\n"
     ]
    }
   ],
   "source": [
    "f = \"/home/jules/Documents/Tax2Proteome/benchmarking/results_searchgui_xtandem_analyzer_bachelor_thesis/uniprot/x_tandem_tsv/Run1_U1_2000ng_uniprot_species_nr.t.xml.tsv\"\n",
    "df = pd.read_csv(f, sep='\\t')\n",
    "all_identified_spectra = len(set(df['Title'].tolist()))\n",
    "all_decoy_spectra = len(set(df[get_decoy_rows(df.Protein)]['Title'].tolist()))\n",
    "all_hit_spectra = len(set(df[get_hit_rows(df.Protein)]['Title'].tolist()))\n",
    "print('result: ', all_identified_spectra, all_decoy_spectra, all_hit_spectra)\n",
    "\n",
    "f = \"/home/jules/Documents/Tax2Proteome/benchmarking/results_searchgui_xtandem_analyzer_bachelor_thesis/uniprot/x_tandem_tsv/Run1_U1_2000ng_uniprot_species_nr.t.xml_reduced.tsv\"\n",
    "df = ReferenceWriter.read_csv_with_generic_function(f,['Protein', 'Hyperscore', 'decoy'])\n",
    "all_identified_spectra = len(set(df['Title'].tolist()))\n",
    "all_decoy_spectra = len(set(df[get_decoy_rows2(df.decoy)]['Title'].tolist()))\n",
    "all_hit_spectra = len(set(df[get_hit_rows2(df.decoy)]['Title'].tolist()))\n",
    "print('result reduced: ', all_identified_spectra, all_decoy_spectra, all_hit_spectra)"
   ]
  },
  {
   "cell_type": "code",
   "execution_count": 368,
   "id": "fe28221c",
   "metadata": {},
   "outputs": [
    {
     "data": {
      "text/html": [
       "<div>\n",
       "<style scoped>\n",
       "    .dataframe tbody tr th:only-of-type {\n",
       "        vertical-align: middle;\n",
       "    }\n",
       "\n",
       "    .dataframe tbody tr th {\n",
       "        vertical-align: top;\n",
       "    }\n",
       "\n",
       "    .dataframe thead th {\n",
       "        text-align: right;\n",
       "    }\n",
       "</style>\n",
       "<table border=\"1\" class=\"dataframe\">\n",
       "  <thead>\n",
       "    <tr style=\"text-align: right;\">\n",
       "      <th></th>\n",
       "      <th>Title</th>\n",
       "      <th>Protein</th>\n",
       "      <th>Hyperscore</th>\n",
       "      <th>decoy</th>\n",
       "    </tr>\n",
       "  </thead>\n",
       "  <tbody>\n",
       "    <tr>\n",
       "      <th>0</th>\n",
       "      <td>Run1_U1_2000ng.150015.150015.2</td>\n",
       "      <td>{LT2_P0A1R6, K12_P0ACF0}</td>\n",
       "      <td>126.4</td>\n",
       "      <td>{False}</td>\n",
       "    </tr>\n",
       "    <tr>\n",
       "      <th>1</th>\n",
       "      <td>Run1_U1_2000ng.125600.125600.2</td>\n",
       "      <td>{Cup_Q1LLQ4}</td>\n",
       "      <td>125.3</td>\n",
       "      <td>{False}</td>\n",
       "    </tr>\n",
       "    <tr>\n",
       "      <th>2</th>\n",
       "      <td>Run1_U1_2000ng.74833.74833.2</td>\n",
       "      <td>{Cup_Q1LQS4}</td>\n",
       "      <td>121.9</td>\n",
       "      <td>{False}</td>\n",
       "    </tr>\n",
       "    <tr>\n",
       "      <th>3</th>\n",
       "      <td>Run1_U1_2000ng.149614.149614.2</td>\n",
       "      <td>{LT2_P0A1R6, K12_P0ACF0}</td>\n",
       "      <td>116.8</td>\n",
       "      <td>{False}</td>\n",
       "    </tr>\n",
       "    <tr>\n",
       "      <th>4</th>\n",
       "      <td>Run1_U1_2000ng.112688.112688.2</td>\n",
       "      <td>{Cup_Q1LI33}</td>\n",
       "      <td>116.5</td>\n",
       "      <td>{False}</td>\n",
       "    </tr>\n",
       "    <tr>\n",
       "      <th>...</th>\n",
       "      <td>...</td>\n",
       "      <td>...</td>\n",
       "      <td>...</td>\n",
       "      <td>...</td>\n",
       "    </tr>\n",
       "    <tr>\n",
       "      <th>85118</th>\n",
       "      <td>Run1_U1_2000ng.163176.163176.3</td>\n",
       "      <td>{PaD_peg.5034}</td>\n",
       "      <td>8.2</td>\n",
       "      <td>{False}</td>\n",
       "    </tr>\n",
       "    <tr>\n",
       "      <th>85119</th>\n",
       "      <td>Run1_U1_2000ng.161545.161545.3</td>\n",
       "      <td>{AK199_peg.1388}</td>\n",
       "      <td>8.2</td>\n",
       "      <td>{False}</td>\n",
       "    </tr>\n",
       "    <tr>\n",
       "      <th>85120</th>\n",
       "      <td>Run1_U1_2000ng.159684.159684.3</td>\n",
       "      <td>{BXL_Q142H6_REVERSED}</td>\n",
       "      <td>8.2</td>\n",
       "      <td>{True}</td>\n",
       "    </tr>\n",
       "    <tr>\n",
       "      <th>85121</th>\n",
       "      <td>Run1_U1_2000ng.5923.5923.3</td>\n",
       "      <td>{NV_AIC15588.1}</td>\n",
       "      <td>8.1</td>\n",
       "      <td>{False}</td>\n",
       "    </tr>\n",
       "    <tr>\n",
       "      <th>85122</th>\n",
       "      <td>Run1_U1_2000ng.51553.51553.2</td>\n",
       "      <td>{LT2_P06173}</td>\n",
       "      <td>8.1</td>\n",
       "      <td>{False}</td>\n",
       "    </tr>\n",
       "  </tbody>\n",
       "</table>\n",
       "<p>85123 rows × 4 columns</p>\n",
       "</div>"
      ],
      "text/plain": [
       "                                Title                   Protein  Hyperscore  \\\n",
       "0      Run1_U1_2000ng.150015.150015.2  {LT2_P0A1R6, K12_P0ACF0}       126.4   \n",
       "1      Run1_U1_2000ng.125600.125600.2              {Cup_Q1LLQ4}       125.3   \n",
       "2        Run1_U1_2000ng.74833.74833.2              {Cup_Q1LQS4}       121.9   \n",
       "3      Run1_U1_2000ng.149614.149614.2  {LT2_P0A1R6, K12_P0ACF0}       116.8   \n",
       "4      Run1_U1_2000ng.112688.112688.2              {Cup_Q1LI33}       116.5   \n",
       "...                               ...                       ...         ...   \n",
       "85118  Run1_U1_2000ng.163176.163176.3            {PaD_peg.5034}         8.2   \n",
       "85119  Run1_U1_2000ng.161545.161545.3          {AK199_peg.1388}         8.2   \n",
       "85120  Run1_U1_2000ng.159684.159684.3     {BXL_Q142H6_REVERSED}         8.2   \n",
       "85121      Run1_U1_2000ng.5923.5923.3           {NV_AIC15588.1}         8.1   \n",
       "85122    Run1_U1_2000ng.51553.51553.2              {LT2_P06173}         8.1   \n",
       "\n",
       "         decoy  \n",
       "0      {False}  \n",
       "1      {False}  \n",
       "2      {False}  \n",
       "3      {False}  \n",
       "4      {False}  \n",
       "...        ...  \n",
       "85118  {False}  \n",
       "85119  {False}  \n",
       "85120   {True}  \n",
       "85121  {False}  \n",
       "85122  {False}  \n",
       "\n",
       "[85123 rows x 4 columns]"
      ]
     },
     "execution_count": 368,
     "metadata": {},
     "output_type": "execute_result"
    }
   ],
   "source": [
    "f = \"/home/jules/Documents/Tax2Proteome/benchmarking/results_searchgui_kleiner_db/Run1_U1_2000ng.t.xml_reduced.tsv\"\n",
    "df_ref = ReferenceWriter.read_csv_with_generic_function(f,['Protein', 'Hyperscore', 'decoy'])\n",
    "df_ref = df_ref[['Title', 'Protein', 'Hyperscore', 'decoy']]\n",
    "df_ref"
   ]
  },
  {
   "cell_type": "code",
   "execution_count": 24,
   "id": "c37008f9",
   "metadata": {},
   "outputs": [],
   "source": [
    "def create_df_for_df_with_sep_decoy(file):\n",
    "    def get_true_false(decoy_column):\n",
    "        l = [True if decoy == {True, False} else False for decoy in decoy_column]\n",
    "        return l\n",
    "    df = ReferenceWriter.read_csv_with_generic_function(file,['Protein', 'Hyperscore', 'decoy'])\n",
    "    df = df[['Title', 'Protein', 'Hyperscore', 'decoy']]\n",
    "    df_true_false = df[get_true_false(df.decoy)]\n",
    "    df_true = df_true_false.copy(deep=True)\n",
    "    df_true\n",
    "    df_true.decoy=[{True} for v in df_true.decoy]\n",
    "    df_with_sep_decoy= df.copy(deep=True)\n",
    "    df_with_sep_decoy.decoy = [{False} if v == {False, True} else v for v in df_with_sep_decoy.decoy ]\n",
    "    df_with_sep_decoy = df_with_sep_decoy.append(df_true, ignore_index=True)\n",
    "    df_with_sep_decoy.decoy=['DECOY' if v == {True} else 'PSM' for v in df_with_sep_decoy.decoy]\n",
    "    return df_with_sep_decoy"
   ]
  },
  {
   "cell_type": "code",
   "execution_count": 25,
   "id": "8816eb83",
   "metadata": {},
   "outputs": [
    {
     "data": {
      "text/plain": [
       "<Figure size 1440x432 with 0 Axes>"
      ]
     },
     "metadata": {},
     "output_type": "display_data"
    },
    {
     "data": {
      "image/png": "[encoded data removed]",
      "text/plain": [
       "<Figure size 360x360 with 1 Axes>"
      ]
     },
     "metadata": {},
     "output_type": "display_data"
    }
   ],
   "source": [
    "def create_histogramm(df_with_sep_decoy, output, fdr_border):\n",
    "    sns.set_style(\"whitegrid\", {'axes.grid' : False})\n",
    "    plt.figure(figsize=(20,6))\n",
    "    sns.displot(df_with_sep_decoy, \n",
    "                x=\"Hyperscore\", \n",
    "                hue=\"decoy\", \n",
    "                binwidth=2, \n",
    "                palette=['blue', 'red'], \n",
    "                \n",
    "                legend=False)    \n",
    "    plt.axvline(fdr_border, linewidth=2, color='black', label='FDR')\n",
    "    axes = plt.gca()\n",
    "    y_min, y_max = axes.get_ylim()\n",
    "    plt.text(fdr_border+1, y_max-(y_max/10), str(fdr_border), va='bottom')\n",
    "    plt.legend(title='', loc='upper right', labels=['0.05 FDR','DECOY', 'PSM'])\n",
    "    plt.savefig(output)\n",
    "    #plt.close()\n",
    "df_with_sep_decoy_ref = create_df_for_df_with_sep_decoy(\"/home/jules/Documents/Tax2Proteome/benchmarking/results_searchgui_kleiner_db/Run1_U1_2000ng.t.xml_reduced.tsv\")\n",
    "create_histogramm(df_with_sep_decoy_ref, '/home/jules/Documents/Tax2Proteome/benchmarking/plots/histogramm_psm_decoy_reference.png', 20.8)"
   ]
  },
  {
   "cell_type": "code",
   "execution_count": null,
   "id": "6db83236",
   "metadata": {},
   "outputs": [],
   "source": [
    "# create all hitsograms\n",
    "dict_list = [uniprot_nr_dict, uniprot_species_dict, ncbi_dict, swissprot_dict]\n",
    "# dict_databases_to_size_and_result_file\n",
    "for file_dict in dict_list:\n",
    "    for db, size_result_tuple in file_dict.items():\n",
    "        output = f'/home/jules/Documents/Tax2Proteome/benchmarking/plots/histogramm_psm_decoy_{db}.png'\n",
    "        file = size_result_tuple[1].split('_0.')[0]\n",
    "        print(file)\n",
    "        fdr_border = float(read_last_score(size_result_tuple[1]))\n",
    "        df_with_sep_decoy = create_df_for_df_with_sep_decoy(file)\n",
    "        create_histogramm(df_with_sep_decoy, output, fdr_border)"
   ]
  },
  {
   "cell_type": "code",
   "execution_count": 27,
   "id": "d0cfa8c5",
   "metadata": {},
   "outputs": [],
   "source": [
    "f = \"/home/jules/Documents/Tax2Proteome/benchmarking/results_searchgui_xtandem_analyzer_bachelor_thesis/uniprot/x_tandem_tsv/Run1_U1_2000ng_uniprot_species_nr.t.xml.tsv\"\n",
    "def histogram_from_original_file(file):\n",
    "    df = pd.read_csv(f,sep='\\t')\n",
    "    df = df[['Title', 'Protein', 'Hyperscore']]\n",
    "    df['decoy']=['DECOY' if 'REVERSED' in v else 'PSM' for v in df.Protein]\n",
    "    sns.displot(df, x=\"Hyperscore\", hue=\"decoy\", binwidth=2, palette=['blue', 'red'])\n",
    "    plt.plot([20, 20], [0,200000], linewidth=2, color='black', label='FDR')"
   ]
  },
  {
   "cell_type": "code",
   "execution_count": 351,
   "id": "c509d79f",
   "metadata": {},
   "outputs": [
    {
     "name": "stdout",
     "output_type": "stream",
     "text": [
      "/home/jules/Documents/Tax2Proteome/benchmarking/results_searchgui_xtandem_analyzer_bachelor_thesis/uniprot/x_tandem_tsv/Run1_U1_2000ng_uniprot_species_nr.t.xml_reduced.tsv\n",
      "/home/jules/Documents/Tax2Proteome/benchmarking/results_searchgui_xtandem_analyzer_bachelor_thesis/uniprot/x_tandem_tsv/Run1_U1_2000ng_uniprot_genus_nr.t.xml_reduced.tsv\n",
      "/home/jules/Documents/Tax2Proteome/benchmarking/results_searchgui_xtandem_analyzer_bachelor_thesis/uniprot/x_tandem_tsv/Run1_U1_2000ng_uniprot_family_nr.t.xml_reduced.tsv\n",
      "/home/jules/Documents/Tax2Proteome/benchmarking/results_searchgui_xtandem_analyzer_bachelor_thesis/uniprot/x_tandem_tsv/Run1_U1_2000ng_uniprot_species_species.t.xml_reduced.tsv\n",
      "/home/jules/Documents/Tax2Proteome/benchmarking/results_searchgui_xtandem_analyzer_bachelor_thesis/uniprot/x_tandem_tsv/Run1_U1_2000ng_uniprot_genus_species.t.xml_reduced.tsv\n",
      "/home/jules/Documents/Tax2Proteome/benchmarking/results_searchgui_xtandem_analyzer_bachelor_thesis/ncbi_kleiner/x_tandem_tsv/Run1_U1_2000ng_ncbi_kleiner_species.t.xml_reduced.tsv\n",
      "/home/jules/Documents/Tax2Proteome/benchmarking/results_searchgui_xtandem_analyzer_bachelor_thesis/ncbi_kleiner/x_tandem_tsv/Run1_U1_2000ng_ncbi_kleiner_genus.t.xml_reduced.tsv\n",
      "/home/jules/Documents/Tax2Proteome/benchmarking/results_searchgui_xtandem_analyzer_bachelor_thesis/swissprot/x_tandem_tsv/Run1_U1_2000ng_swissprot_species.t.xml_reduced.tsv\n",
      "/home/jules/Documents/Tax2Proteome/benchmarking/results_searchgui_xtandem_analyzer_bachelor_thesis/swissprot/x_tandem_tsv/Run1_U1_2000ng_swissprot_genus.t.xml_reduced.tsv\n",
      "/home/jules/Documents/Tax2Proteome/benchmarking/results_searchgui_xtandem_analyzer_bachelor_thesis/swissprot/x_tandem_tsv/Run1_U1_2000ng_swissprot_family.t.xml_reduced.tsv\n",
      "/home/jules/Documents/Tax2Proteome/benchmarking/results_searchgui_xtandem_analyzer_bachelor_thesis/swissprot/x_tandem_tsv/Run1_U1_2000ng_swissprot_order.t.xml_reduced.tsv\n"
     ]
    },
    {
     "data": {
      "text/plain": [
       "<Figure size 1440x432 with 0 Axes>"
      ]
     },
     "metadata": {},
     "output_type": "display_data"
    },
    {
     "data": {
      "text/plain": [
       "<Figure size 1440x432 with 0 Axes>"
      ]
     },
     "metadata": {},
     "output_type": "display_data"
    },
    {
     "data": {
      "text/plain": [
       "<Figure size 1440x432 with 0 Axes>"
      ]
     },
     "metadata": {},
     "output_type": "display_data"
    },
    {
     "data": {
      "text/plain": [
       "<Figure size 1440x432 with 0 Axes>"
      ]
     },
     "metadata": {},
     "output_type": "display_data"
    },
    {
     "data": {
      "text/plain": [
       "<Figure size 1440x432 with 0 Axes>"
      ]
     },
     "metadata": {},
     "output_type": "display_data"
    },
    {
     "data": {
      "text/plain": [
       "<Figure size 1440x432 with 0 Axes>"
      ]
     },
     "metadata": {},
     "output_type": "display_data"
    },
    {
     "data": {
      "text/plain": [
       "<Figure size 1440x432 with 0 Axes>"
      ]
     },
     "metadata": {},
     "output_type": "display_data"
    },
    {
     "data": {
      "text/plain": [
       "<Figure size 1440x432 with 0 Axes>"
      ]
     },
     "metadata": {},
     "output_type": "display_data"
    },
    {
     "data": {
      "text/plain": [
       "<Figure size 1440x432 with 0 Axes>"
      ]
     },
     "metadata": {},
     "output_type": "display_data"
    },
    {
     "data": {
      "text/plain": [
       "<Figure size 1440x432 with 0 Axes>"
      ]
     },
     "metadata": {},
     "output_type": "display_data"
    },
    {
     "data": {
      "text/plain": [
       "<Figure size 1440x432 with 0 Axes>"
      ]
     },
     "metadata": {},
     "output_type": "display_data"
    }
   ],
   "source": [
    "# create all hitsograms\n",
    "dict_list = [uniprot_nr_dict, uniprot_species_dict, ncbi_dict, swissprot_dict]\n",
    "# dict_databases_to_size_and_result_file\n",
    "for file_dict in dict_list:\n",
    "    for db, size_result_tuple in file_dict.items():\n",
    "        output = f'/home/jules/Documents/Tax2Proteome/benchmarking/plots/histogramm_psm_decoy_{db}.png'\n",
    "        file = size_result_tuple[1].split('_0.')[0]\n",
    "        fdr_border = float(read_last_score(size_result_tuple[1]))\n",
    "        df_with_sep_decoy = create_df_for_df_with_sep_decoy(file)\n",
    "        create_histogramm(df_with_sep_decoy, output, fdr_border)"
   ]
  },
  {
   "cell_type": "code",
   "execution_count": 348,
   "id": "536c9f39",
   "metadata": {},
   "outputs": [
    {
     "data": {
      "text/plain": [
       "<Figure size 1440x432 with 0 Axes>"
      ]
     },
     "metadata": {},
     "output_type": "display_data"
    },
    {
     "data": {
      "image/png": "[encoded data removed]",
      "text/plain": [
       "<Figure size 360x360 with 1 Axes>"
      ]
     },
     "metadata": {},
     "output_type": "display_data"
    }
   ],
   "source": [
    "plt.figure(figsize=(20,6))\n",
    "\n",
    "fig = sns.displot(df_with_sep_decoy, x=\"Hyperscore\", hue=\"decoy\", binwidth=2, palette=['blue', 'red'], legend=False)\n",
    "plt.axvline(fdr_border, linewidth=2, color='black', label='FDR')\n",
    "axes = plt.gca()\n",
    "y_min, y_max = axes.get_ylim()\n",
    "plt.text(fdr_border+1, y_max-(y_max/10), str(fdr_border), va='bottom')\n",
    "plt.legend(title='', loc='upper right', labels=['0.05 FDR','DECOY', 'PSM'])\n",
    "#legend = fig.legend()\n",
    "#legend.texts[0].set_text(\"Whatever else\")\n",
    "plt.savefig(output)\n"
   ]
  },
  {
   "cell_type": "code",
   "execution_count": 37,
   "id": "e449ef47",
   "metadata": {
    "scrolled": true
   },
   "outputs": [
    {
     "name": "stdout",
     "output_type": "stream",
     "text": [
      "tpr max: [0.05]\n"
     ]
    },
    {
     "data": {
      "text/plain": [
       "Text(0.5, 0, 'FPR')"
      ]
     },
     "execution_count": 37,
     "metadata": {},
     "output_type": "execute_result"
    },
    {
     "data": {
      "image/png": "[encoded data removed]",
      "text/plain": [
       "<Figure size 720x504 with 1 Axes>"
      ]
     },
     "metadata": {},
     "output_type": "display_data"
    }
   ],
   "source": [
    "# ROC\n",
    "fdrs = [0.01, 0.02, 0.03, 0.04, 0.05, 0.06, 0.07, 0.08, 0.09, 0.1, 0.2, 0.3, 0.4, 0.5, 0.6, 0.7, 0.8, 0.9]\n",
    "files = [f'/home/jules/Documents/Tax2Proteome/benchmarking/results_searchgui_xtandem_analyzer_bachelor_thesis/uniprot/x_tandem_tsv/Run1_U1_2000ng_uniprot_species_nr.t.xml_reduced.tsv_{fdr}_sensitivity'\n",
    "        for fdr in fdrs]\n",
    "\n",
    "files_ignore_unclassified = [f'/home/jules/Documents/Tax2Proteome/benchmarking/results_searchgui_xtandem_analyzer_bachelor_thesis/uniprot/x_tandem_tsv/Run1_U1_2000ng_uniprot_species_nr.t.xml_reduced.tsv_ignore_unclassified_{fdr}_sensitivity' \n",
    "                            for fdr in fdrs]\n",
    "used_files=files_ignore_unclassified\n",
    "TP_values = [read_TP(file) for file in used_files]\n",
    "FN_values = [read_FN(file) for file in used_files]\n",
    "FP_values = [read_FP(file) for file in used_files]\n",
    "TN_values = [read_TN(file) for file in used_files]\n",
    "#fpr = fp/(fp+tn)\n",
    "fpr_values = [FP_values[i]/(FP_values[i]+TN_values[i]) for i in range(len(used_files))]\n",
    "#tpr = tp/(tp+fn) = sensitivity\n",
    "tpr_values =  [TP_values[i]/(TP_values[i]+FN_values[i]) for i in range(len(used_files))]\n",
    "m = max(tpr_values)\n",
    "maxes = [i for i, j in enumerate(tpr_values) if j == m]\n",
    "print('tpr max:', [fdrs[i] for i in maxes])\n",
    "#print(tpr_values)\n",
    "fig, ax = plt.subplots(figsize=(10,7))\n",
    "ax.plot(fpr_values, tpr_values)\n",
    "#ax.plot(np.linspace(0, 1, 100),\n",
    " #        np.linspace(0, 1, 100),\n",
    "  #       label='baseline',\n",
    "   #      linestyle='--')\n",
    "plt.title('Receiver Operating Characteristic Curve', fontsize=18)\n",
    "plt.ylabel('TPR', fontsize=16)\n",
    "plt.xlabel('FPR', fontsize=16)\n",
    "#plt.legend(fontsize=12);"
   ]
  },
  {
   "cell_type": "code",
   "execution_count": null,
   "id": "68cce76d",
   "metadata": {},
   "outputs": [],
   "source": []
  }
 ],
 "metadata": {
  "kernelspec": {
   "display_name": "Python 3 (ipykernel)",
   "language": "python",
   "name": "python3"
  },
  "language_info": {
   "codemirror_mode": {
    "name": "ipython",
    "version": 3
   },
   "file_extension": ".py",
   "mimetype": "text/x-python",
   "name": "python",
   "nbconvert_exporter": "python",
   "pygments_lexer": "ipython3",
   "version": "3.9.5"
  }
 },
 "nbformat": 4,
 "nbformat_minor": 5
}
