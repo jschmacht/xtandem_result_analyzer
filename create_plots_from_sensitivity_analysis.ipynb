{
 "cells": [
  {
   "cell_type": "code",
   "execution_count": 1,
   "id": "c1167989",
   "metadata": {},
   "outputs": [],
   "source": [
    "import seaborn as sns"
   ]
  },
  {
   "cell_type": "code",
   "execution_count": 52,
   "id": "ab0f7112",
   "metadata": {},
   "outputs": [],
   "source": [
    "def read_all_results_into_dict(file):\n",
    "    result_dict= {}\n",
    "    with open(file, 'r') as inp:\n",
    "        firstline=inp.readline()\n",
    "        db_names = [name.strip() for name in firstline.strip().split('\\t')[1:]]\n",
    "        print(db_names)\n",
    "        for db in db_names:\n",
    "            result_dict[db] = {}\n",
    "        for line in inp.readlines():\n",
    "            result_name = line.split('\\t')[0]\n",
    "            result_fields = [name.strip() for name in line.split('\\t')[1:]]\n",
    "            for i, db in enumerate(db_names):\n",
    "                result_dict[db][result_name]=result_fields[i]\n",
    "    return db_names, result_dict\n",
    "\n",
    "def read_analysis_results_into_dict(file):\n",
    "    result_dict= {}\n",
    "    with open(file, 'r') as inp:\n",
    "        for line in inp.readlines():\n",
    "            result_dict[line.split('\\t')[0]] = line.split('\\t')[1].strip()\n",
    "   #print(result_dict)\n",
    "    return result_dict\n",
    "\n",
    "def read_TP(file):\n",
    "    TP = int(read_analysis_results_into_dict(file)['TP:'])\n",
    "    return TP\n",
    "\n",
    "def read_TN(file):\n",
    "    TN = int(read_analysis_results_into_dict(file)['TN:'])\n",
    "    return TN\n",
    "\n",
    "def read_FP(file):\n",
    "    TP = int(read_analysis_results_into_dict(file)['FP:'])\n",
    "    return TP\n",
    "\n",
    "def read_FN(file):\n",
    "    TN = int(read_analysis_results_into_dict(file)['FN:'])\n",
    "    return TN\n",
    "\n",
    "def read_sensitivity(file):\n",
    "    sen = float(read_analysis_results_into_dict(file)['Sensitivity:'])\n",
    "    return sen\n",
    " \n",
    "def read_specificity(file):\n",
    "    spe = float(read_analysis_results_into_dict(file)['Specificity:'])\n",
    "    return spe"
   ]
  },
  {
   "cell_type": "code",
   "execution_count": 26,
   "id": "eada97eb",
   "metadata": {},
   "outputs": [
    {
     "name": "stdout",
     "output_type": "stream",
     "text": [
      "[28641, 30512, 32479, 33480, 34285, 35054, 35673, 36244, 36654, 37039, 37383] [50136, 50136, 50136, 50136, 50136, 50136, 50136, 50136, 50136, 50136, 50136] [77, 147, 300, 447, 650, 856, 1105, 1406, 1718, 2050, 2463] [5769, 5750, 5601, 5523, 5637, 5757, 6002, 6206, 6589, 7091, 7444]\n"
     ]
    }
   ],
   "source": [
    "# different FDRs:\n",
    "# ROC\n",
    "fdrs = [0.005, 0.01, 0.02, 0.03, 0.04, 0.05, 0.06, 0.07, 0.08, 0.09, 0.1]\n",
    "filenames = [f\"/home/jules/Documents/Tax2Proteome/benchmarking/results_searchgui_xtandem_analyzer_bachelor_thesis/uniprot/x_tandem_tsv/Run1_U1_2000ng_uniprot_species_nr.t.xml_reduced.tsv_{fdr}_sensitivity\" for fdr in fdrs] \n",
    "TPs = [read_TP(file) for file in filenames]\n",
    "TNs= [read_TN(file) for file in filenames]\n",
    "FPs = [read_FP(file) for file in filenames]\n",
    "FNs= [read_FN(file) for file in filenames]\n",
    "print(TPs, TNs, FPs, FNs)"
   ]
  },
  {
   "cell_type": "code",
   "execution_count": 53,
   "id": "5410aeba",
   "metadata": {},
   "outputs": [
    {
     "name": "stdout",
     "output_type": "stream",
     "text": [
      "['reference', 'reference_Arabidopsis_thaliana', 'ncbi_species', 'ncbi_genus', 'uniprot_species', 'uniprot_species_species', 'uniprot_species_nr', 'uniprot_genus', 'uniprot_genus_species', 'uniprot_genus_nr', 'uniprot_family_nr', 'swissprot_species', 'swissprot_genus', 'swissprot_family', 'swissprot_order']\n"
     ]
    }
   ],
   "source": [
    "# Hyperscore deoendent on db_size\n",
    "all_results_fdr_0_05 = '/home/jules/Documents/Tax2Proteome/benchmarking/sensitivity_analysis.tsv'\n",
    "db_names, all_result_dict = read_all_results_into_dict(all_results_fdr_0_05)"
   ]
  },
  {
   "cell_type": "code",
   "execution_count": null,
   "id": "4be017c5",
   "metadata": {},
   "outputs": [],
   "source": []
  }
 ],
 "metadata": {
  "kernelspec": {
   "display_name": "Python 3 (ipykernel)",
   "language": "python",
   "name": "python3"
  },
  "language_info": {
   "codemirror_mode": {
    "name": "ipython",
    "version": 3
   },
   "file_extension": ".py",
   "mimetype": "text/x-python",
   "name": "python",
   "nbconvert_exporter": "python",
   "pygments_lexer": "ipython3",
   "version": "3.9.5"
  }
 },
 "nbformat": 4,
 "nbformat_minor": 5
}
